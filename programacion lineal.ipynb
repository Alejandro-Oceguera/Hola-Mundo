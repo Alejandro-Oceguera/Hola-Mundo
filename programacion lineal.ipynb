{
 "cells": [
  {
   "cell_type": "markdown",
   "metadata": {},
   "source": [
    "# Programacion lineal\n",
    "\n",
    "La programacion lineal es el campo de optimizacion matematica dedicada a optimizar funcionas lineales, denominadas funcion objetico de tal forma que las variables de dicha funcion estan sujetas a una serie de restricciones"
   ]
  },
  {
   "cell_type": "markdown",
   "metadata": {},
   "source": [
    "Funcion objetivo( a optimizar) o llamado funcional de costo:\n"
   ]
  },
  {
   "cell_type": "markdown",
   "metadata": {},
   "source": [
    "variables de decision: cuanto necesitaras de cada elemento para optimizar el problema\n",
    "\n"
   ]
  },
  {
   "cell_type": "markdown",
   "metadata": {},
   "source": [
    "Restricciones: sera el dato minimo o maximo que tienes permitido llegar a por ejemplo un maximo o minimo de piezas que se pueden construir"
   ]
  },
  {
   "cell_type": "markdown",
   "metadata": {},
   "source": [
    "Dentro de todas la posibles soluciones las restricciones nos daran una region dentro de la grafica que son cosas feasable"
   ]
  },
  {
   "cell_type": "code",
   "execution_count": null,
   "metadata": {},
   "outputs": [],
   "source": []
  }
 ],
 "metadata": {
  "kernelspec": {
   "display_name": "Python 3",
   "language": "python",
   "name": "python3"
  },
  "language_info": {
   "codemirror_mode": {
    "name": "ipython",
    "version": 3
   },
   "file_extension": ".py",
   "mimetype": "text/x-python",
   "name": "python",
   "nbconvert_exporter": "python",
   "pygments_lexer": "ipython3",
   "version": "3.7.4"
  }
 },
 "nbformat": 4,
 "nbformat_minor": 2
}
