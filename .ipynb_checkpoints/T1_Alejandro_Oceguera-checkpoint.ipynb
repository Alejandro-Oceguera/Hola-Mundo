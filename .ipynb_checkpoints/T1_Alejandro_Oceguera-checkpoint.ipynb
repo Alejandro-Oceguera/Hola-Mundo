{
 "cells": [
  {
   "cell_type": "markdown",
   "metadata": {},
   "source": [
    "# Alejandro Oceguera Soria\n",
    "## Mini Bio\n",
    "### Fecha y lugar de nacimiento\n",
    "Nací el 21 de mayo de 1994 a las 6:03 A:M\n",
    "### Ciudad de origen  \n",
    "Guadalajara Jalisco, México\n",
    "### Familia. \n",
    "  * **Padre:**  \n",
    "   Carlos Oceguera Colunga\n",
    "  * **Madre:**  \n",
    "   Monica Ernestina Soria Sanchez\n",
    "  * **Hermano mayor:**  \n",
    "  Carlos Oceguera Soria\n",
    "  * **Hermano  gemelo dicigoto:**  \n",
    "  Diego Fernando Oceguera Soria\n",
    "  * **Hija:**  \n",
    "  Andrea Oceguera Lorenza\n",
    "## Aspiraciones.\n",
    "Mis aspiraciones parecen cada vez mas absurdas pero toda persona que a logrado algo increible era solo humano y como yo tenia solo dos pies y solo una vida, asi que quiero ver a donde me llevaran esos dos pies y esa unica vida, quiero cambiar aquello que no me gusta y quiero ser la persona mas famosa que haya llevado mi [nombre](https://es.wikipedia.org/wiki/Alejandro_Magno).\n",
    "## Hobbies.  \n",
    "Los videojuegos.  \n",
    "La musica.  \n",
    "Los juegos de mesa.\n",
    "Artes marciales.\n",
    "Baile.\n",
    "Magic the gathering ![](http://3.bp.blogspot.com/-nHpvjbnvYoc/ULVCEUfQAiI/AAAAAAAAA04/EGRPWwZ0TcY/s1600/BlackLotus.png)\n",
    "\n",
    "## Motivo de elección de la carrera.\n",
    "Quiero aprender como funciona el mundo y los sistemas hechos por su gente"
   ]
  },
  {
   "cell_type": "markdown",
   "metadata": {},
   "source": [
    "# Resumen de [a new domain](http://anewdomain.net/spotlight-should-you-invest-in-python-training/), \"*Por que el entrenamiento de python vale completamente la pena*\"  \n",
    "\n",
    "Este articulo corto nos da 3 motivos principales para usar python.  \n",
    "1. Es un lenguaje robusto que se adapta a varias necesidades  \n",
    "2. Es un lenguaje en el que se es sencillo de empezar pero puedes realizar tambien tareas muy complejas ya que cuenta con varios ***Frameworks*** \n",
    "3. Permanencia, se menciona que python lleva ya 3 decadas siendo uno de los favoritos en el mercado y es probable que eso no vaya a cambiar pronto.\n",
    "\n",
    "Así tambien el articulo ofrece un vinculo a recursos de aprendizaje que pueden funcionar en un entorno empresarial <https://www.accelebrate.com/python-training>\n"
   ]
  },
  {
   "cell_type": "markdown",
   "metadata": {},
   "source": [
    "# Resumen del articulo 2 de [*The Economist*](https://www.economist.com/science-and-technology/2018/07/19/python-has-brought-computer-programming-to-a-vast-new-audience)\n",
    "## This but a scratch!\n",
    "Este articulo nos habla un poco de la historia de python y como se origino como un proyecto del Holandes Guido van Rossum Quien se encontraba harto de lo complicados que eran otros idiomas y ademas quizo ofrecer la oportunidad de que el usuario creara sus propios paquetes que despues pudierarn ser compartidos como aplicaciones y tercero crear la referencia a monty python mas popular del mundo despues de monty python claro.\n",
    "![](https://i.etsystatic.com/15236720/r/il/279c3b/1549975505/il_570xN.1549975505_9k1r.jpg)"
   ]
  },
  {
   "cell_type": "code",
   "execution_count": null,
   "metadata": {},
   "outputs": [],
   "source": []
  }
 ],
 "metadata": {
  "kernelspec": {
   "display_name": "Python 3",
   "language": "python",
   "name": "python3"
  },
  "language_info": {
   "codemirror_mode": {
    "name": "ipython",
    "version": 3
   },
   "file_extension": ".py",
   "mimetype": "text/x-python",
   "name": "python",
   "nbconvert_exporter": "python",
   "pygments_lexer": "ipython3",
   "version": "3.7.4"
  }
 },
 "nbformat": 4,
 "nbformat_minor": 2
}
